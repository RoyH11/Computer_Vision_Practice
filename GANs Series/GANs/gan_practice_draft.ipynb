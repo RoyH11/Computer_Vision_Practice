{
 "cells": [
  {
   "cell_type": "markdown",
   "metadata": {},
   "source": [
    "https://www.geeksforgeeks.org/generative-adversarial-networks-gans-in-pytorch/"
   ]
  },
  {
   "cell_type": "markdown",
   "metadata": {},
   "source": [
    "Import Libraries"
   ]
  },
  {
   "cell_type": "code",
   "execution_count": 1,
   "metadata": {},
   "outputs": [],
   "source": [
    "import torch\n",
    "import torch.nn as nn\n",
    "import torch.optim as optim\n",
    "import torchvision\n",
    "import torchvision.transforms as transforms\n",
    "import matplotlib.pyplot as plt\n",
    "import numpy as np\n"
   ]
  },
  {
   "cell_type": "markdown",
   "metadata": {},
   "source": [
    "Define generator function"
   ]
  },
  {
   "cell_type": "code",
   "execution_count": 2,
   "metadata": {},
   "outputs": [],
   "source": [
    "# Generator\n",
    "class Generator(nn.Module):\n",
    "    def __init__(self, noise_dim):\n",
    "        super(Generator, self).__init__()\n",
    "        self.noise_dim = noise_dim\n",
    "        self.main = nn.Sequential(\n",
    "            nn.Linear(noise_dim, 7*7*256),\n",
    "            nn.ReLU(True),\n",
    "            nn.Unflatten(1, (256, 7, 7)),\n",
    "            nn.ConvTranspose2d(256, 128, 5, stride=1, padding=2),\n",
    "            nn.BatchNorm2d(128),\n",
    "            nn.ReLU(True),\n",
    "            nn.ConvTranspose2d(128, 64, 5, stride=2, padding=2, output_padding=1),\n",
    "            nn.BatchNorm2d(64),\n",
    "            nn.ReLU(True),\n",
    "            nn.ConvTranspose2d(64, 1, 5, stride=2, padding=2, output_padding=1),\n",
    "            nn.Tanh()\n",
    "        )\n",
    "\n",
    "    def forward(self, x):\n",
    "        return self.main(x)\n"
   ]
  },
  {
   "cell_type": "markdown",
   "metadata": {},
   "source": [
    "Define Discriminator"
   ]
  },
  {
   "cell_type": "code",
   "execution_count": 3,
   "metadata": {},
   "outputs": [],
   "source": [
    "# Discriminator\n",
    "class Discriminator(nn.Module):\n",
    "    def __init__(self): \n",
    "        super(Discriminator, self).__init__()\n",
    "        self.main = nn.Sequential(\n",
    "            nn.Conv2d(1, 64, 5, stride=2, padding=2), # 28 -> 14, channel 1 -> 64\n",
    "            nn.LeakyReLU(0.2, inplace=True),\n",
    "            nn.BatchNorm2d(64),\n",
    "            nn.Conv2d(64, 128, 5, stride=2, padding=2), # 14 -> 7, channel 64 -> 128\n",
    "            nn.LeakyReLU(0.2, inplace=True),\n",
    "            nn.BatchNorm2d(128),\n",
    "            nn.Flatten(), # 7*7*128, flatten\n",
    "            nn.Linear(7*7*128, 1) # 7*7*128 -> 1\n",
    "        )\n",
    "\n",
    "    def forward(self, x):\n",
    "        return self.main(x)\n",
    "    \n"
   ]
  },
  {
   "cell_type": "markdown",
   "metadata": {},
   "source": [
    "Combine the Generator and Discriminator Function"
   ]
  },
  {
   "cell_type": "code",
   "execution_count": 4,
   "metadata": {},
   "outputs": [],
   "source": [
    "# Noise dimension\n",
    "NOISE_DIM = 100\n",
    "\n",
    "# Generator and Discriminator\n",
    "generator = Generator(NOISE_DIM)\n",
    "discriminator = Discriminator()\n"
   ]
  },
  {
   "cell_type": "markdown",
   "metadata": {},
   "source": [
    "Device Config"
   ]
  },
  {
   "cell_type": "code",
   "execution_count": 5,
   "metadata": {},
   "outputs": [],
   "source": [
    "# Device configuration\n",
    "device = torch.device('cuda' if torch.cuda.is_available() else 'cpu')\n",
    "generator = generator.to(device)\n",
    "discriminator = discriminator.to(device)"
   ]
  },
  {
   "cell_type": "code",
   "execution_count": 6,
   "metadata": {},
   "outputs": [
    {
     "name": "stdout",
     "output_type": "stream",
     "text": [
      "Using device: cuda\n"
     ]
    }
   ],
   "source": [
    "print('Using device:', device)"
   ]
  },
  {
   "cell_type": "markdown",
   "metadata": {},
   "source": [
    "Set Loss Function, Optimizer, and Hyperparameters"
   ]
  },
  {
   "cell_type": "code",
   "execution_count": 7,
   "metadata": {},
   "outputs": [],
   "source": [
    "# Loss Function\n",
    "criterion = nn.BCELoss()\n",
    "\n",
    "# Optimizers\n",
    "generator_optimizer = optim.Adam(generator.parameters(),\n",
    "                                  lr=0.0002, betas=(0.5, 0.999))\n",
    "discriminator_optimizer = optim.Adam(discriminator.parameters(),\n",
    "                                      lr=0.0002, betas=(0.5, 0.999))\n",
    "\n",
    "# Training hyperparameters\n",
    "NUM_EPOCHS = 100\n",
    "BATCH_SIZE = 256"
   ]
  },
  {
   "cell_type": "markdown",
   "metadata": {},
   "source": [
    "Data Loader"
   ]
  },
  {
   "cell_type": "code",
   "execution_count": 8,
   "metadata": {},
   "outputs": [],
   "source": [
    "# DataLoader\n",
    "transform = transforms.Compose([\n",
    "    transforms.ToTensor(),\n",
    "    transforms.Normalize((0.5,), (0.5,))\n",
    "])\n",
    "train_dataset = torchvision.datasets.MNIST(root='./data', \n",
    "                                           train=True, \n",
    "                                           transform=transform,\n",
    "                                             download=True)\n",
    "train_loader = torch.utils.data.DataLoader(dataset=train_dataset,\n",
    "                                             batch_size=BATCH_SIZE, \n",
    "                                             shuffle=True)"
   ]
  },
  {
   "cell_type": "markdown",
   "metadata": {},
   "source": [
    "Generate Images"
   ]
  },
  {
   "cell_type": "code",
   "execution_count": 9,
   "metadata": {},
   "outputs": [],
   "source": [
    "# Generate images\n",
    "def generate_images(model, noise): \n",
    "    model.eval()\n",
    "    with torch.no_grad():\n",
    "        fake_images = model(noise).cpu()\n",
    "        fake_images = fake_images.view(fake_images.size(0), 1, 28, 28)\n",
    "\n",
    "        # create a grid of images with 1 row and noise.size(0) columns\n",
    "        fig = plt.figure(figsize=(25, 25))\n",
    "        for i in range(fake_images.size(0)):\n",
    "            plt.subplot(1, noise.size(0), i+1)\n",
    "            plt.imshow(fake_images[i][0], cmap='gray')\n",
    "            plt.axis('off')\n",
    "\n",
    "        plt.show()\n"
   ]
  },
  {
   "cell_type": "code",
   "execution_count": 10,
   "metadata": {},
   "outputs": [
    {
     "data": {
      "image/png": "[encoded data removed]",
      "text/plain": [
       "<Figure size 2500x2500 with 10 Axes>"
      ]
     },
     "metadata": {},
     "output_type": "display_data"
    }
   ],
   "source": [
    "# Generate test noise\n",
    "test_noise = torch.randn(10, NOISE_DIM).to(device)\n",
    "generate_images(generator, test_noise)"
   ]
  },
  {
   "cell_type": "markdown",
   "metadata": {},
   "source": [
    "Training Process"
   ]
  },
  {
   "cell_type": "code",
   "execution_count": 11,
   "metadata": {},
   "outputs": [
    {
     "name": "stdout",
     "output_type": "stream",
     "text": [
      "Epoch [1/100], Discriminator Loss: 0.0040, Generator Loss: 6.2756\n",
      "Epoch [2/100], Discriminator Loss: 0.0009, Generator Loss: 7.7668\n",
      "Epoch [3/100], Discriminator Loss: 0.0005, Generator Loss: 8.9217\n",
      "Epoch [4/100], Discriminator Loss: 0.0003, Generator Loss: 10.0119\n",
      "Epoch [5/100], Discriminator Loss: 0.0003, Generator Loss: 8.9990\n",
      "Epoch [6/100], Discriminator Loss: 0.0006, Generator Loss: 8.5007\n",
      "Epoch [7/100], Discriminator Loss: 0.0003, Generator Loss: 9.5902\n",
      "Epoch [8/100], Discriminator Loss: 0.0001, Generator Loss: 10.1378\n",
      "Epoch [9/100], Discriminator Loss: 0.0001, Generator Loss: 10.5345\n",
      "Epoch [10/100], Discriminator Loss: 0.0001, Generator Loss: 10.8438\n"
     ]
    },
    {
     "data": {
      "image/png": "[encoded data removed]",
      "text/plain": [
       "<Figure size 2500x2500 with 10 Axes>"
      ]
     },
     "metadata": {},
     "output_type": "display_data"
    },
    {
     "name": "stdout",
     "output_type": "stream",
     "text": [
      "Epoch [11/100], Discriminator Loss: 0.0001, Generator Loss: 11.1023\n",
      "Epoch [12/100], Discriminator Loss: 0.0001, Generator Loss: 11.3269\n",
      "Epoch [13/100], Discriminator Loss: 0.0001, Generator Loss: 11.5322\n",
      "Epoch [14/100], Discriminator Loss: 0.0000, Generator Loss: 11.6840\n",
      "Epoch [15/100], Discriminator Loss: 0.0000, Generator Loss: 11.8697\n",
      "Epoch [16/100], Discriminator Loss: 0.0001, Generator Loss: 12.0403\n",
      "Epoch [17/100], Discriminator Loss: 0.0000, Generator Loss: 12.1993\n",
      "Epoch [18/100], Discriminator Loss: 0.0000, Generator Loss: 12.3526\n",
      "Epoch [19/100], Discriminator Loss: 0.0000, Generator Loss: 12.5010\n",
      "Epoch [20/100], Discriminator Loss: 0.0000, Generator Loss: 12.6455\n"
     ]
    },
    {
     "data": {
      "image/png": "[encoded data removed]",
      "text/plain": [
       "<Figure size 2500x2500 with 10 Axes>"
      ]
     },
     "metadata": {},
     "output_type": "display_data"
    },
    {
     "name": "stdout",
     "output_type": "stream",
     "text": [
      "Epoch [21/100], Discriminator Loss: 0.0000, Generator Loss: 12.7861\n",
      "Epoch [22/100], Discriminator Loss: 0.0000, Generator Loss: 12.9247\n",
      "Epoch [23/100], Discriminator Loss: 0.0000, Generator Loss: 13.0597\n",
      "Epoch [24/100], Discriminator Loss: 0.0000, Generator Loss: 13.1922\n",
      "Epoch [25/100], Discriminator Loss: 0.0000, Generator Loss: 13.3223\n",
      "Epoch [26/100], Discriminator Loss: 0.0000, Generator Loss: 13.4511\n",
      "Epoch [27/100], Discriminator Loss: 0.0000, Generator Loss: 13.5801\n",
      "Epoch [28/100], Discriminator Loss: 0.0000, Generator Loss: 13.7064\n",
      "Epoch [29/100], Discriminator Loss: 0.0000, Generator Loss: 13.8342\n",
      "Epoch [30/100], Discriminator Loss: 0.0000, Generator Loss: 13.4726\n"
     ]
    },
    {
     "data": {
      "image/png": "[encoded data removed]",
      "text/plain": [
       "<Figure size 2500x2500 with 10 Axes>"
      ]
     },
     "metadata": {},
     "output_type": "display_data"
    },
    {
     "name": "stdout",
     "output_type": "stream",
     "text": [
      "Epoch [31/100], Discriminator Loss: 0.0000, Generator Loss: 23.1650\n",
      "Epoch [32/100], Discriminator Loss: 0.0000, Generator Loss: 23.0746\n",
      "Epoch [33/100], Discriminator Loss: 0.0000, Generator Loss: 23.0213\n",
      "Epoch [34/100], Discriminator Loss: 0.0000, Generator Loss: 22.9818\n",
      "Epoch [35/100], Discriminator Loss: 0.0000, Generator Loss: 22.9508\n",
      "Epoch [36/100], Discriminator Loss: 0.0000, Generator Loss: 22.9250\n",
      "Epoch [37/100], Discriminator Loss: 0.0000, Generator Loss: 22.9013\n",
      "Epoch [38/100], Discriminator Loss: 0.0000, Generator Loss: 22.8789\n",
      "Epoch [39/100], Discriminator Loss: 0.0000, Generator Loss: 22.8591\n",
      "Epoch [40/100], Discriminator Loss: 0.0000, Generator Loss: 22.8412\n"
     ]
    },
    {
     "data": {
      "image/png": "[encoded data removed]",
      "text/plain": [
       "<Figure size 2500x2500 with 10 Axes>"
      ]
     },
     "metadata": {},
     "output_type": "display_data"
    },
    {
     "name": "stdout",
     "output_type": "stream",
     "text": [
      "Epoch [41/100], Discriminator Loss: 0.0000, Generator Loss: 22.8243\n",
      "Epoch [42/100], Discriminator Loss: 0.0000, Generator Loss: 22.8081\n",
      "Epoch [43/100], Discriminator Loss: 0.0000, Generator Loss: 22.7925\n",
      "Epoch [44/100], Discriminator Loss: 0.0000, Generator Loss: 22.7779\n",
      "Epoch [45/100], Discriminator Loss: 0.0000, Generator Loss: 22.7637\n",
      "Epoch [46/100], Discriminator Loss: 0.0000, Generator Loss: 22.7496\n",
      "Epoch [47/100], Discriminator Loss: 0.0000, Generator Loss: 22.7361\n",
      "Epoch [48/100], Discriminator Loss: 0.0000, Generator Loss: 22.7230\n",
      "Epoch [49/100], Discriminator Loss: 0.0000, Generator Loss: 22.7108\n",
      "Epoch [50/100], Discriminator Loss: 0.0000, Generator Loss: 22.6984\n"
     ]
    },
    {
     "data": {
      "image/png": "[encoded data removed]",
      "text/plain": [
       "<Figure size 2500x2500 with 10 Axes>"
      ]
     },
     "metadata": {},
     "output_type": "display_data"
    },
    {
     "name": "stdout",
     "output_type": "stream",
     "text": [
      "Epoch [51/100], Discriminator Loss: 0.0000, Generator Loss: 22.6864\n",
      "Epoch [52/100], Discriminator Loss: 0.0000, Generator Loss: 22.6749\n",
      "Epoch [53/100], Discriminator Loss: 0.0000, Generator Loss: 22.6647\n",
      "Epoch [54/100], Discriminator Loss: 0.0000, Generator Loss: 22.6540\n",
      "Epoch [55/100], Discriminator Loss: 0.0000, Generator Loss: 22.6441\n",
      "Epoch [56/100], Discriminator Loss: 0.0000, Generator Loss: 22.6345\n",
      "Epoch [57/100], Discriminator Loss: 0.0000, Generator Loss: 22.6247\n",
      "Epoch [58/100], Discriminator Loss: 0.0000, Generator Loss: 22.6152\n",
      "Epoch [59/100], Discriminator Loss: 0.0000, Generator Loss: 22.6058\n",
      "Epoch [60/100], Discriminator Loss: 0.0000, Generator Loss: 22.5967\n"
     ]
    },
    {
     "data": {
      "image/png": "[encoded data removed]",
      "text/plain": [
       "<Figure size 2500x2500 with 10 Axes>"
      ]
     },
     "metadata": {},
     "output_type": "display_data"
    },
    {
     "name": "stdout",
     "output_type": "stream",
     "text": [
      "Epoch [61/100], Discriminator Loss: 0.0000, Generator Loss: 22.5869\n",
      "Epoch [62/100], Discriminator Loss: 0.0000, Generator Loss: 22.5786\n",
      "Epoch [63/100], Discriminator Loss: 0.0000, Generator Loss: 22.5701\n",
      "Epoch [64/100], Discriminator Loss: 0.0000, Generator Loss: 22.5611\n",
      "Epoch [65/100], Discriminator Loss: 0.0000, Generator Loss: 22.5533\n",
      "Epoch [66/100], Discriminator Loss: 0.0000, Generator Loss: 22.5459\n",
      "Epoch [67/100], Discriminator Loss: 0.0000, Generator Loss: 22.5386\n",
      "Epoch [68/100], Discriminator Loss: 0.0000, Generator Loss: 22.5317\n",
      "Epoch [69/100], Discriminator Loss: 0.0000, Generator Loss: 22.5253\n",
      "Epoch [70/100], Discriminator Loss: 0.0000, Generator Loss: 22.5193\n"
     ]
    },
    {
     "data": {
      "image/png": "[encoded data removed]",
      "text/plain": [
       "<Figure size 2500x2500 with 10 Axes>"
      ]
     },
     "metadata": {},
     "output_type": "display_data"
    },
    {
     "name": "stdout",
     "output_type": "stream",
     "text": [
      "Epoch [71/100], Discriminator Loss: 0.0000, Generator Loss: 22.5137\n",
      "Epoch [72/100], Discriminator Loss: 0.0000, Generator Loss: 22.5095\n",
      "Epoch [73/100], Discriminator Loss: 0.0000, Generator Loss: 22.5060\n",
      "Epoch [74/100], Discriminator Loss: 0.0000, Generator Loss: 22.5032\n",
      "Epoch [75/100], Discriminator Loss: 0.0000, Generator Loss: 22.5019\n",
      "Epoch [76/100], Discriminator Loss: 0.0000, Generator Loss: 22.5013\n",
      "Epoch [77/100], Discriminator Loss: 0.0000, Generator Loss: 22.5024\n",
      "Epoch [78/100], Discriminator Loss: 0.0000, Generator Loss: 22.5047\n",
      "Epoch [79/100], Discriminator Loss: 0.0000, Generator Loss: 22.5088\n",
      "Epoch [80/100], Discriminator Loss: 0.0000, Generator Loss: 22.5146\n"
     ]
    },
    {
     "data": {
      "image/png": "[encoded data removed]",
      "text/plain": [
       "<Figure size 2500x2500 with 10 Axes>"
      ]
     },
     "metadata": {},
     "output_type": "display_data"
    },
    {
     "name": "stdout",
     "output_type": "stream",
     "text": [
      "Epoch [81/100], Discriminator Loss: 0.0000, Generator Loss: 22.5234\n",
      "Epoch [82/100], Discriminator Loss: 0.0000, Generator Loss: 22.5348\n",
      "Epoch [83/100], Discriminator Loss: 0.0000, Generator Loss: 22.5472\n",
      "Epoch [84/100], Discriminator Loss: 0.0000, Generator Loss: 22.5637\n",
      "Epoch [85/100], Discriminator Loss: 0.0000, Generator Loss: 22.5830\n",
      "Epoch [86/100], Discriminator Loss: 0.0000, Generator Loss: 22.6046\n",
      "Epoch [87/100], Discriminator Loss: 0.0000, Generator Loss: 22.6303\n",
      "Epoch [88/100], Discriminator Loss: 0.0000, Generator Loss: 22.6607\n",
      "Epoch [89/100], Discriminator Loss: 0.0000, Generator Loss: 22.6947\n",
      "Epoch [90/100], Discriminator Loss: 0.0000, Generator Loss: 22.7330\n"
     ]
    },
    {
     "data": {
      "image/png": "[encoded data removed]",
      "text/plain": [
       "<Figure size 2500x2500 with 10 Axes>"
      ]
     },
     "metadata": {},
     "output_type": "display_data"
    },
    {
     "ename": "KeyboardInterrupt",
     "evalue": "",
     "output_type": "error",
     "traceback": [
      "\u001b[1;31m---------------------------------------------------------------------------\u001b[0m",
      "\u001b[1;31mKeyboardInterrupt\u001b[0m                         Traceback (most recent call last)",
      "Cell \u001b[1;32mIn[11], line 19\u001b[0m\n\u001b[0;32m     17\u001b[0m fake_outputs \u001b[38;5;241m=\u001b[39m discriminator(fake_images\u001b[38;5;241m.\u001b[39mdetach())\n\u001b[0;32m     18\u001b[0m fake_loss \u001b[38;5;241m=\u001b[39m criterion(fake_outputs, fake_labels)\n\u001b[1;32m---> 19\u001b[0m \u001b[43mfake_loss\u001b[49m\u001b[38;5;241;43m.\u001b[39;49m\u001b[43mbackward\u001b[49m\u001b[43m(\u001b[49m\u001b[43m)\u001b[49m\n\u001b[0;32m     21\u001b[0m discriminator_optimizer\u001b[38;5;241m.\u001b[39mstep()\n\u001b[0;32m     23\u001b[0m \u001b[38;5;66;03m# train generator\u001b[39;00m\n",
      "File \u001b[1;32mc:\\Users\\S237442\\AppData\\Local\\miniconda3\\envs\\pytorch_env\\lib\\site-packages\\torch\\_tensor.py:581\u001b[0m, in \u001b[0;36mTensor.backward\u001b[1;34m(self, gradient, retain_graph, create_graph, inputs)\u001b[0m\n\u001b[0;32m    571\u001b[0m \u001b[38;5;28;01mif\u001b[39;00m has_torch_function_unary(\u001b[38;5;28mself\u001b[39m):\n\u001b[0;32m    572\u001b[0m     \u001b[38;5;28;01mreturn\u001b[39;00m handle_torch_function(\n\u001b[0;32m    573\u001b[0m         Tensor\u001b[38;5;241m.\u001b[39mbackward,\n\u001b[0;32m    574\u001b[0m         (\u001b[38;5;28mself\u001b[39m,),\n\u001b[1;32m   (...)\u001b[0m\n\u001b[0;32m    579\u001b[0m         inputs\u001b[38;5;241m=\u001b[39minputs,\n\u001b[0;32m    580\u001b[0m     )\n\u001b[1;32m--> 581\u001b[0m \u001b[43mtorch\u001b[49m\u001b[38;5;241;43m.\u001b[39;49m\u001b[43mautograd\u001b[49m\u001b[38;5;241;43m.\u001b[39;49m\u001b[43mbackward\u001b[49m\u001b[43m(\u001b[49m\n\u001b[0;32m    582\u001b[0m \u001b[43m    \u001b[49m\u001b[38;5;28;43mself\u001b[39;49m\u001b[43m,\u001b[49m\u001b[43m \u001b[49m\u001b[43mgradient\u001b[49m\u001b[43m,\u001b[49m\u001b[43m \u001b[49m\u001b[43mretain_graph\u001b[49m\u001b[43m,\u001b[49m\u001b[43m \u001b[49m\u001b[43mcreate_graph\u001b[49m\u001b[43m,\u001b[49m\u001b[43m \u001b[49m\u001b[43minputs\u001b[49m\u001b[38;5;241;43m=\u001b[39;49m\u001b[43minputs\u001b[49m\n\u001b[0;32m    583\u001b[0m \u001b[43m\u001b[49m\u001b[43m)\u001b[49m\n",
      "File \u001b[1;32mc:\\Users\\S237442\\AppData\\Local\\miniconda3\\envs\\pytorch_env\\lib\\site-packages\\torch\\autograd\\__init__.py:340\u001b[0m, in \u001b[0;36mbackward\u001b[1;34m(tensors, grad_tensors, retain_graph, create_graph, grad_variables, inputs)\u001b[0m\n\u001b[0;32m    331\u001b[0m inputs \u001b[38;5;241m=\u001b[39m (\n\u001b[0;32m    332\u001b[0m     (inputs,)\n\u001b[0;32m    333\u001b[0m     \u001b[38;5;28;01mif\u001b[39;00m \u001b[38;5;28misinstance\u001b[39m(inputs, (torch\u001b[38;5;241m.\u001b[39mTensor, graph\u001b[38;5;241m.\u001b[39mGradientEdge))\n\u001b[1;32m   (...)\u001b[0m\n\u001b[0;32m    336\u001b[0m     \u001b[38;5;28;01melse\u001b[39;00m ()\n\u001b[0;32m    337\u001b[0m )\n\u001b[0;32m    339\u001b[0m grad_tensors_ \u001b[38;5;241m=\u001b[39m _tensor_or_tensors_to_tuple(grad_tensors, \u001b[38;5;28mlen\u001b[39m(tensors))\n\u001b[1;32m--> 340\u001b[0m grad_tensors_ \u001b[38;5;241m=\u001b[39m \u001b[43m_make_grads\u001b[49m\u001b[43m(\u001b[49m\u001b[43mtensors\u001b[49m\u001b[43m,\u001b[49m\u001b[43m \u001b[49m\u001b[43mgrad_tensors_\u001b[49m\u001b[43m,\u001b[49m\u001b[43m \u001b[49m\u001b[43mis_grads_batched\u001b[49m\u001b[38;5;241;43m=\u001b[39;49m\u001b[38;5;28;43;01mFalse\u001b[39;49;00m\u001b[43m)\u001b[49m\n\u001b[0;32m    341\u001b[0m \u001b[38;5;28;01mif\u001b[39;00m retain_graph \u001b[38;5;129;01mis\u001b[39;00m \u001b[38;5;28;01mNone\u001b[39;00m:\n\u001b[0;32m    342\u001b[0m     retain_graph \u001b[38;5;241m=\u001b[39m create_graph\n",
      "File \u001b[1;32mc:\\Users\\S237442\\AppData\\Local\\miniconda3\\envs\\pytorch_env\\lib\\site-packages\\torch\\autograd\\__init__.py:220\u001b[0m, in \u001b[0;36m_make_grads\u001b[1;34m(outputs, grads, is_grads_batched)\u001b[0m\n\u001b[0;32m    217\u001b[0m     \u001b[38;5;28;01melse\u001b[39;00m:\n\u001b[0;32m    218\u001b[0m         \u001b[38;5;28;01massert\u001b[39;00m \u001b[38;5;28misinstance\u001b[39m(out, torch\u001b[38;5;241m.\u001b[39mTensor)\n\u001b[0;32m    219\u001b[0m         new_grads\u001b[38;5;241m.\u001b[39mappend(\n\u001b[1;32m--> 220\u001b[0m             \u001b[43mtorch\u001b[49m\u001b[38;5;241;43m.\u001b[39;49m\u001b[43mones_like\u001b[49m\u001b[43m(\u001b[49m\u001b[43mout\u001b[49m\u001b[43m,\u001b[49m\u001b[43m \u001b[49m\u001b[43mmemory_format\u001b[49m\u001b[38;5;241;43m=\u001b[39;49m\u001b[43mtorch\u001b[49m\u001b[38;5;241;43m.\u001b[39;49m\u001b[43mpreserve_format\u001b[49m\u001b[43m)\u001b[49m\n\u001b[0;32m    221\u001b[0m         )\n\u001b[0;32m    222\u001b[0m \u001b[38;5;28;01melse\u001b[39;00m:\n\u001b[0;32m    223\u001b[0m     new_grads\u001b[38;5;241m.\u001b[39mappend(\u001b[38;5;28;01mNone\u001b[39;00m)\n",
      "\u001b[1;31mKeyboardInterrupt\u001b[0m: "
     ]
    }
   ],
   "source": [
    "for epoch in range(NUM_EPOCHS):\n",
    "    for i, data in enumerate(train_loader): \n",
    "        real_images, _ = data\n",
    "        real_images = real_images.to(device)\n",
    "\n",
    "        # train discriminator with real images\n",
    "        discriminator_optimizer.zero_grad()\n",
    "        real_labels = torch.ones(real_images.size(0), 1).to(device)\n",
    "        real_outputs = discriminator(real_images)\n",
    "        real_loss = criterion(real_outputs, real_labels)\n",
    "        real_loss.backward()\n",
    "\n",
    "        # train discriminator with fake images\n",
    "        noise = torch.randn(real_images.size(0), NOISE_DIM).to(device)\n",
    "        fake_images = generator(noise)\n",
    "        fake_labels = torch.zeros(real_images.size(0), 1).to(device)\n",
    "        fake_outputs = discriminator(fake_images.detach())\n",
    "        fake_loss = criterion(fake_outputs, fake_labels)\n",
    "        fake_loss.backward()\n",
    "\n",
    "        discriminator_optimizer.step()\n",
    "\n",
    "        # train generator\n",
    "        generator_optimizer.zero_grad()\n",
    "        fake_labels = torch.ones(real_images.size(0), 1).to(device) # fake labels are real for generator cost\n",
    "        fake_outputs = discriminator(fake_images)\n",
    "        gen_loss = criterion(fake_outputs, fake_labels)\n",
    "        gen_loss.backward()\n",
    "        generator_optimizer.step()\n",
    "\n",
    "    # print loss for every epoch\n",
    "    print(f'Epoch [{epoch+1}/{NUM_EPOCHS}], '\n",
    "          f'Discriminator Loss: {real_loss.item()+fake_loss.item():.4f}, '\n",
    "          f'Generator Loss: {gen_loss.item():.4f}')\n",
    "    \n",
    "    # generate images for every 10 epochs\n",
    "    if (epoch+1) % 10 == 0:\n",
    "        generate_images(generator, test_noise)\n",
    "            \n"
   ]
  }
 ],
 "metadata": {
  "kernelspec": {
   "display_name": "pytorch_env",
   "language": "python",
   "name": "python3"
  },
  "language_info": {
   "codemirror_mode": {
    "name": "ipython",
    "version": 3
   },
   "file_extension": ".py",
   "mimetype": "text/x-python",
   "name": "python",
   "nbconvert_exporter": "python",
   "pygments_lexer": "ipython3",
   "version": "3.9.21"
  }
 },
 "nbformat": 4,
 "nbformat_minor": 2
}
